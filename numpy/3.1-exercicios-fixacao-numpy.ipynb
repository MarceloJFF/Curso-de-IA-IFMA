{
 "cells": [
  {
   "cell_type": "markdown",
   "metadata": {
    "slideshow": {
     "slide_type": "slide"
    }
   },
   "source": [
    "Curso de Capacitação em IA (2023)\n",
    "[MCTI, SOFTEX, IFMA Monte Castelo]\n",
    "\n",
    "# Atividade de Fixação\n",
    "## Tópico: 3.1 - Numpy\n"
   ]
  },
  {
   "cell_type": "markdown",
   "metadata": {},
   "source": [
    "### Instruções\n",
    "\n",
    "1. Este notebook deve ser utilizado para fixação dos conceitos.\n",
    "1. Abra este notebook no jupyter, jupyter lab, vscode (com extensões) ou no colab.  \n",
    "1. Responda cada questão com seu código e execute. Verifique a saída, corrija se necessário, e execute novamente. \n",
    "1. Algumas questões admitem várias formas de resposta. Neste caso, adicione células com suas várias respostas. \n",
    "\n"
   ]
  },
  {
   "cell_type": "markdown",
   "metadata": {},
   "source": [
    "### Configurações"
   ]
  },
  {
   "cell_type": "code",
   "execution_count": 6,
   "metadata": {
    "slideshow": {
     "slide_type": "slide"
    }
   },
   "outputs": [],
   "source": [
    "import numpy as np"
   ]
  },
  {
   "cell_type": "markdown",
   "metadata": {},
   "source": [
    "## Questões"
   ]
  },
  {
   "cell_type": "markdown",
   "metadata": {},
   "source": [
    "### Criação de ndarrays"
   ]
  },
  {
   "cell_type": "markdown",
   "metadata": {
    "slideshow": {
     "slide_type": "fragment"
    }
   },
   "source": [
    "1. Crie um ndarray de 5 itens a partir de números quaisquer (cada aluno deve utilizar numeros diferentes)"
   ]
  },
  {
   "cell_type": "code",
   "execution_count": 6,
   "metadata": {
    "slideshow": {
     "slide_type": "notes"
    }
   },
   "outputs": [
    {
     "name": "stdout",
     "output_type": "stream",
     "text": [
      "[10.    10.625 11.25  11.875 12.5   13.125 13.75  14.375 15.   ]\n"
     ]
    }
   ],
   "source": [
    "# Sua resposta aqui\n",
    "import numpy as np\n",
    "a = np.linspace(10,15,9)\n",
    "print(a)"
   ]
  },
  {
   "cell_type": "markdown",
   "metadata": {
    "slideshow": {
     "slide_type": "slide"
    }
   },
   "source": [
    "2. Crie um ndarray de 5 numeros inteiros em um dado intervalo "
   ]
  },
  {
   "cell_type": "code",
   "execution_count": 2,
   "metadata": {
    "slideshow": {
     "slide_type": "notes"
    }
   },
   "outputs": [
    {
     "name": "stdout",
     "output_type": "stream",
     "text": [
      "[10 11 12 13 14]\n"
     ]
    }
   ],
   "source": [
    "# Digite seu codigo aqui\n",
    "import numpy as np\n",
    "a = np.arange(10,15)\n",
    "print(a)"
   ]
  },
  {
   "cell_type": "markdown",
   "metadata": {},
   "source": [
    "3. Crie um ndarray com 100 números reais no mesmo intervalo da questão anterior "
   ]
  },
  {
   "cell_type": "code",
   "execution_count": 9,
   "metadata": {},
   "outputs": [
    {
     "name": "stdout",
     "output_type": "stream",
     "text": [
      "[ 0.          0.50505051  1.01010101  1.51515152  2.02020202  2.52525253\n",
      "  3.03030303  3.53535354  4.04040404  4.54545455  5.05050505  5.55555556\n",
      "  6.06060606  6.56565657  7.07070707  7.57575758  8.08080808  8.58585859\n",
      "  9.09090909  9.5959596  10.1010101  10.60606061 11.11111111 11.61616162\n",
      " 12.12121212 12.62626263 13.13131313 13.63636364 14.14141414 14.64646465\n",
      " 15.15151515 15.65656566 16.16161616 16.66666667 17.17171717 17.67676768\n",
      " 18.18181818 18.68686869 19.19191919 19.6969697  20.2020202  20.70707071\n",
      " 21.21212121 21.71717172 22.22222222 22.72727273 23.23232323 23.73737374\n",
      " 24.24242424 24.74747475 25.25252525 25.75757576 26.26262626 26.76767677\n",
      " 27.27272727 27.77777778 28.28282828 28.78787879 29.29292929 29.7979798\n",
      " 30.3030303  30.80808081 31.31313131 31.81818182 32.32323232 32.82828283\n",
      " 33.33333333 33.83838384 34.34343434 34.84848485 35.35353535 35.85858586\n",
      " 36.36363636 36.86868687 37.37373737 37.87878788 38.38383838 38.88888889\n",
      " 39.39393939 39.8989899  40.4040404  40.90909091 41.41414141 41.91919192\n",
      " 42.42424242 42.92929293 43.43434343 43.93939394 44.44444444 44.94949495\n",
      " 45.45454545 45.95959596 46.46464646 46.96969697 47.47474747 47.97979798\n",
      " 48.48484848 48.98989899 49.49494949 50.        ]\n"
     ]
    }
   ],
   "source": [
    "# Digite seu codigo aqui\n",
    "import numpy as np\n",
    "c = np.linspace(0,50,100)\n",
    "print(c)"
   ]
  },
  {
   "cell_type": "markdown",
   "metadata": {},
   "source": [
    "4. Crie uma matriz quadrada de dimensão maior que 4, onde a diagonal principal é formada por valores 3 "
   ]
  },
  {
   "cell_type": "code",
   "execution_count": 13,
   "metadata": {},
   "outputs": [
    {
     "name": "stdout",
     "output_type": "stream",
     "text": [
      "[[3 0 0 0 0]\n",
      " [0 3 0 0 0]\n",
      " [0 0 3 0 0]\n",
      " [0 0 0 3 0]\n",
      " [0 0 0 0 3]]\n"
     ]
    }
   ],
   "source": [
    "# Digite seu codigo aqui\n",
    "import numpy as np\n",
    "\n",
    "d = np.diag([3,3,3,3,3])\n",
    "\n",
    "print (d)"
   ]
  },
  {
   "cell_type": "markdown",
   "metadata": {},
   "source": [
    "### Fatiamento e indexação"
   ]
  },
  {
   "cell_type": "markdown",
   "metadata": {},
   "source": [
    "5. Crie uma estrutura de duas dimensões com alguns poucos números, ex. 12. Selecione todos os números mas ignore as últimas duas linhae e considere apenas a ultima coluna. "
   ]
  },
  {
   "cell_type": "code",
   "execution_count": 32,
   "metadata": {},
   "outputs": [
    {
     "name": "stdout",
     "output_type": "stream",
     "text": [
      "[[3]]\n"
     ]
    }
   ],
   "source": [
    "# Digite seu codigo aqui\n",
    "import numpy as np\n",
    "a2d = np.array(\n",
    "    [\n",
    "    [1,2,3],\n",
    "    [4,9,8],\n",
    "    [12,10,25]\n",
    "    ])\n",
    "\n",
    "print(a2d[:1,2:])"
   ]
  },
  {
   "cell_type": "markdown",
   "metadata": {
    "slideshow": {
     "slide_type": "slide"
    }
   },
   "source": [
    "6. Extraia todos os números que sejam maior (ou menor) que a media (ou mediana) dos valores que você escolheu"
   ]
  },
  {
   "cell_type": "code",
   "execution_count": 39,
   "metadata": {
    "slideshow": {
     "slide_type": "notes"
    }
   },
   "outputs": [
    {
     "name": "stdout",
     "output_type": "stream",
     "text": [
      "8.0\n",
      "Maior: \n",
      "[ 9 12 10 25]\n",
      "\n",
      "Menor: [1 2 3 4]\n"
     ]
    }
   ],
   "source": [
    "# Digite seu codigo aqui\n",
    "import numpy as np\n",
    "a2d = np.array(\n",
    "    [\n",
    "    [1,2,3],\n",
    "    [4,9,8],\n",
    "    [12,10,25]\n",
    "    ])\n",
    "\n",
    "mediana = np.median(a2d)\n",
    "print(mediana)\n",
    "print(\"Maior: \")\n",
    "print(a2d[a2d > mediana])\n",
    "print()\n",
    "print(f\"Menor: {a2d[a2d < mediana]}\")\n"
   ]
  },
  {
   "cell_type": "markdown",
   "metadata": {
    "slideshow": {
     "slide_type": "slide"
    }
   },
   "source": [
    "7. Substitua todos os números menores que a média do array por 0, preservando os valores do array original"
   ]
  },
  {
   "cell_type": "code",
   "execution_count": 41,
   "metadata": {
    "slideshow": {
     "slide_type": "notes"
    }
   },
   "outputs": [
    {
     "name": "stdout",
     "output_type": "stream",
     "text": [
      "[[ 0  0  0]\n",
      " [ 0  9  8]\n",
      " [12 10 25]]\n"
     ]
    }
   ],
   "source": [
    "# Digite seu codigo aqui\n",
    "import numpy as np\n",
    "a2d = np.array(\n",
    "    [\n",
    "    [1,2,3],\n",
    "    [4,9,8],\n",
    "    [12,10,25]\n",
    "    ])\n",
    "\n",
    "mediana = np.median(a2d)\n",
    "a2d[a2d<mediana] = 0\n",
    "print(a2d)"
   ]
  },
  {
   "cell_type": "markdown",
   "metadata": {},
   "source": [
    "### Mudança de Formato"
   ]
  },
  {
   "cell_type": "markdown",
   "metadata": {
    "slideshow": {
     "slide_type": "slide"
    }
   },
   "source": [
    "8. De um exemplo onde um ndarray de 1D é transformado em 2D. Por exemplo, transformar um vetor 1D em uma matriz coluna ou matriz linha"
   ]
  },
  {
   "cell_type": "code",
   "execution_count": 13,
   "metadata": {
    "slideshow": {
     "slide_type": "notes"
    }
   },
   "outputs": [
    {
     "name": "stdout",
     "output_type": "stream",
     "text": [
      "[[1]\n",
      " [2]\n",
      " [3]\n",
      " [4]\n",
      " [5]\n",
      " [6]]\n",
      "[[1 2 3 4 5 6]]\n"
     ]
    }
   ],
   "source": [
    "# Digite seu codigo aqui\n",
    "import numpy as np\n",
    "#coluna\n",
    "a = np.arange(1,7).reshape(6,1)\n",
    "print(a)\n",
    "#linha\n",
    "b =  np.arange(1,7).reshape(1,6)\n",
    "print(b)\n"
   ]
  },
  {
   "cell_type": "markdown",
   "metadata": {
    "slideshow": {
     "slide_type": "slide"
    }
   },
   "source": [
    "9. Mostre como empilhar verticalmente dois ndarrays de 2 dimensões (matrizes) de dimensões compatíveis. Fique à vontade para mostra concatenação em qualquer um dos eixos "
   ]
  },
  {
   "cell_type": "code",
   "execution_count": 21,
   "metadata": {
    "slideshow": {
     "slide_type": "notes"
    }
   },
   "outputs": [
    {
     "data": {
      "text/plain": [
       "array([[ 1,  2,  4, 10,  9,  8],\n",
       "       [ 5,  6,  7, 11, 20, 25]])"
      ]
     },
     "execution_count": 21,
     "metadata": {},
     "output_type": "execute_result"
    }
   ],
   "source": [
    "# Digite seu codigo aqui\n",
    "a = np.array([[1,2,4],\n",
    "            [5,6,7]])\n",
    "\n",
    "b = np.array([[10,9,8],\n",
    "            [11,20,25]])\n",
    "# axix = 1 concatena em torno do eixo y, ou seja, coluna\n",
    "# axis = 0 concatena em torno do eixo x, ou seja, linhas\n",
    "# None, ignora dimensoes e forma um array 1 dimesional com todos os elementos\n",
    "\n",
    "\n",
    "#verticalmente\n",
    "np.concatenate([a,b],axis = 1)\n",
    "#np.concatenate([a,b],axis = None)"
   ]
  },
  {
   "cell_type": "markdown",
   "metadata": {
    "slideshow": {
     "slide_type": "notes"
    }
   },
   "source": [
    "**Nota:** stackoverflow.com/questions/33356442/when-should-i-use-hstack-vstack-vs-append-vs-concatenate-vs-column-stack"
   ]
  },
  {
   "cell_type": "markdown",
   "metadata": {},
   "source": [
    "## Miscelânea"
   ]
  },
  {
   "cell_type": "markdown",
   "metadata": {},
   "source": [
    "10. Como calcular media, desvio e mediana de um array?"
   ]
  },
  {
   "cell_type": "code",
   "execution_count": 27,
   "metadata": {},
   "outputs": [
    {
     "name": "stdout",
     "output_type": "stream",
     "text": [
      "5.5\n",
      "6.0\n",
      "2.96\n"
     ]
    }
   ],
   "source": [
    "# Digite seu codigo aqui\n",
    "#supondo o array\n",
    "a = np.array([1,5,7,9])\n",
    "media = np.mean(a)\n",
    "mediana = np.median(a)\n",
    "desvio_padrao = np.std(a)\n",
    "print(media)\n",
    "print(mediana)\n",
    "print(round(desvio_padrao,2))\n",
    "\n"
   ]
  },
  {
   "cell_type": "markdown",
   "metadata": {},
   "source": [
    "11. Como normalizar os valores em um ndarray? \n",
    "\n",
    "** Nota**: *normalizar* é uma operação matemática que subtrai a média dos dados e divide pelo seu desvio padrão. "
   ]
  },
  {
   "cell_type": "code",
   "execution_count": 46,
   "metadata": {},
   "outputs": [
    {
     "name": "stdout",
     "output_type": "stream",
     "text": [
      "[[-1.90065778 -0.55901699  0.1118034 ]\n",
      " [ 1.11803399  0.78262379  0.4472136 ]]\n",
      "[[-1.90065778 -0.55901699  0.1118034 ]\n",
      " [ 1.11803399  0.78262379  0.4472136 ]]\n",
      "[[0.11547005 0.57735027 0.80829038]\n",
      " [0.63887656 0.57498891 0.51110125]]\n"
     ]
    }
   ],
   "source": [
    "# Digite seu codigo aqui\n",
    "a = np.array([[1,5,7],\n",
    "            [10,9,8]])\n",
    "media = np.mean(a)\n",
    "mediana = np.median(a)\n",
    "desvio_padrao = np.std(a)\n",
    "\n",
    "print((a-media)/desvio_padrao)\n",
    "normalizado = (a - media)/desvio_padrao\n",
    "print(normalizado)\n",
    "\n"
   ]
  },
  {
   "cell_type": "markdown",
   "metadata": {
    "slideshow": {
     "slide_type": "slide"
    }
   },
   "source": [
    "12. Calcular correlação entre dois vetores"
   ]
  },
  {
   "cell_type": "code",
   "execution_count": 79,
   "metadata": {},
   "outputs": [
    {
     "name": "stdout",
     "output_type": "stream",
     "text": [
      "[[1. 1.]\n",
      " [1. 1.]]\n"
     ]
    }
   ],
   "source": [
    "# Digite seu codigo aqui\n",
    "x = np.array([1, 2, 3, 4, 5])\n",
    "y = np.array([2, 4, 6, 8, 10])\n",
    "\n",
    "print(np.corrcoef(x,y))"
   ]
  },
  {
   "cell_type": "markdown",
   "metadata": {},
   "source": [
    "13. Crie um vetor com vários valores repetidos. Como contar a quantidade de ocorrencias de cada valor unicos em um ndarray?"
   ]
  },
  {
   "cell_type": "code",
   "execution_count": 78,
   "metadata": {},
   "outputs": [
    {
     "name": "stdout",
     "output_type": "stream",
     "text": [
      "[ 5  6  8  9 10]\n",
      "[3 2 1 4 2]\n"
     ]
    }
   ],
   "source": [
    "# Digite seu codigo aqui\n",
    "# dado o ndarray abaixo\n",
    "\n",
    "a = np.array([[5,6,9,10,5,9],[9,8,6,5,9,10]])\n",
    "\n",
    "unique,counts = np.unique(a, return_counts = True)\n",
    "print(unique)\n",
    "print(counts)"
   ]
  },
  {
   "cell_type": "markdown",
   "metadata": {},
   "source": [
    "# Referências\n",
    "\n",
    "Se você quiser, veja mais exercícios no link abaixo. Atente para o fato de que algumas das respostas neste link não valem mais para a versão atual do numpy. \n",
    "\n",
    "https://www.machinelearningplus.com/python/101-numpy-exercises-python/"
   ]
  },
  {
   "cell_type": "code",
   "execution_count": null,
   "metadata": {},
   "outputs": [],
   "source": []
  }
 ],
 "metadata": {
  "kernelspec": {
   "display_name": "Python 3 (ipykernel)",
   "language": "python",
   "name": "python3"
  },
  "language_info": {
   "codemirror_mode": {
    "name": "ipython",
    "version": 3
   },
   "file_extension": ".py",
   "mimetype": "text/x-python",
   "name": "python",
   "nbconvert_exporter": "python",
   "pygments_lexer": "ipython3",
   "version": "3.9.13"
  }
 },
 "nbformat": 4,
 "nbformat_minor": 2
}
