{
 "cells": [
  {
   "cell_type": "markdown",
   "id": "12b389c7",
   "metadata": {},
   "source": [
    "# IFMA - INSTITUTO FEDERAL DE CIÊNCIA E TECNOLOGIA DO MARANHÃO\n",
    "SISTEMAS DE INFORMAÇÃO\n",
    "20192SI0016\n",
    "MARCELO JHONES FERREIRA FEITOSA\n",
    "TÓPICOS DE SI 1"
   ]
  },
  {
   "cell_type": "markdown",
   "id": "58fb7ffb",
   "metadata": {},
   "source": [
    "1. Defina uma lista de dicionários representando informações sobre algum problema real do seu dia a dia. Mostre 1 exemplo de filtragem desta lista da seguinte forma:\n",
    "a) sem list comprehension\n",
    "b) com list comprehension"
   ]
  },
  {
   "cell_type": "code",
   "execution_count": 11,
   "id": "87d26612",
   "metadata": {},
   "outputs": [
    {
     "name": "stdout",
     "output_type": "stream",
     "text": [
      "{'nome': 'John Wick 4', 'Lancamento': 2023, 'Produtora': 'Lionsgate'}\n"
     ]
    }
   ],
   "source": [
    "filmes = [{\"nome\":\"John Wick 4\", \"Lancamento\":2023, \"Produtora\": \"Lionsgate\"},\n",
    "          {\"nome\":\"O Hobbit\", \"Lancamento\":2012, \"Produtora\": \"Warner\"},\n",
    "          {\"nome\":\"Star wars 7\", \"Lancamento\":2015,\"Produtora\": \"Disney\"}\n",
    "         ]\n",
    "#com list comprehension\n",
    "list(f for f in filmes if f['Lancamento']>2020)\n",
    "\n",
    "#sem list comprehension\n",
    "for f in filmes:\n",
    "    condicao = f[\"Lancamento\"]>2020\n",
    "    if(condicao):\n",
    "        print(f)\n"
   ]
  },
  {
   "cell_type": "code",
   "execution_count": null,
   "id": "9827f872",
   "metadata": {},
   "outputs": [],
   "source": [
    "Defina uma função que combina duas listas de dicionários em uma nova lista a partir de uma chave \n",
    "em comum no estilo Join do SQL. De exêmplos de uso de sua função. \n",
    "Exemplo: L1 = [{'nome':'ana','idade':19},{'nome':'daniel', 'idade':23}], \n",
    "L2=[{'nome':'ana','salario':2500},{'nome':'daniel', 'salario':2100}] \n",
    "deve resultar em uma lista L3 = [\n",
    "{'nome':'ana','idade':19, 'salario':2500},{'nome':'daniel', 'idade':23, 'salario':2100}]. \n",
    "Por exemplo:  L3 = combina_listas_dict(L1, L2). \n",
    "Sua função deve funcionar para qualquer exemplo, não apenas o exemplo dado aqui. "
   ]
  },
  {
   "cell_type": "code",
   "execution_count": 34,
   "id": "1f66a90c",
   "metadata": {
    "scrolled": true
   },
   "outputs": [
    {
     "name": "stdout",
     "output_type": "stream",
     "text": [
      "{'nome': 'ana', 'idade': 19, 'salario': 2500}\n",
      "\n",
      "\n",
      "\n",
      "\n",
      "\n",
      "\n",
      "{'nome': 'daniel', 'idade': 23, 'salario': 2100}\n",
      "\n",
      "\n",
      "[{'nome': 'ana', 'idade': 19, 'salario': 2500}, {'nome': 'daniel', 'idade': 23, 'salario': 2100}]\n",
      "None\n"
     ]
    }
   ],
   "source": [
    "def combina_listas_dict(l1, l2, chave_comum):\n",
    "    novo_elemento = list()\n",
    "    for e_line1 in l1:\n",
    "        aux = dict()\n",
    "        for e_line2 in l2:\n",
    "            condicao = (e_line1[chave_comum] == e_line2[chave_comum]) and (e_line1.keys() != e_line2.keys())\n",
    "            if(condicao):\n",
    "                aux = e_line1\n",
    "                aux.update(e_line2)\n",
    "                novo_elemento.append(aux)\n",
    "                print(aux)\n",
    "            \n",
    "            print(\"\\n\")\n",
    "    print(novo_elemento)       \n",
    "        \n",
    "\n",
    "L1 = [{'nome':'ana','idade':19},{'nome':'daniel', 'idade':23}]\n",
    "L2 = [{'nome':'ana','salario':2500},{'nome':'daniel', 'salario':2100}]\n",
    "L3 = combina_listas_dict(L1, L2, 'nome')\n",
    "print(L3)\n",
    "\n"
   ]
  },
  {
   "cell_type": "code",
   "execution_count": null,
   "id": "60c8446d",
   "metadata": {},
   "outputs": [],
   "source": [
    "3. Seja L1 = [1,2,3,4] e L2= [1,2,3,4] avalie e justifique sua respostas para os\n",
    "dois casos abaixo:\n",
    "a) L1==L2 ?\n",
    "\n",
    "Resposta - Essa questão irá retornar verdadeiro, pois todos os elementos de L1 são iguais aos \n",
    "elementos de L2\n",
    "\n",
    "b) L1 is L2 ? -  Essa questão irá retornar falso, pois ambos são objetos. Logo, tem endereços de\n",
    "memórias diferentes, ou seja, são objetos distintos.\n"
   ]
  },
  {
   "cell_type": "code",
   "execution_count": null,
   "id": "029215d0",
   "metadata": {},
   "outputs": [],
   "source": []
  },
  {
   "cell_type": "code",
   "execution_count": 13,
   "id": "5fd102dd",
   "metadata": {},
   "outputs": [
    {
     "name": "stdout",
     "output_type": "stream",
     "text": [
      "False\n"
     ]
    }
   ],
   "source": [
    "L1 = [1,2,3,4] \n",
    "L2 = [1,2,3,4]\n",
    "print(L1 is L2)"
   ]
  },
  {
   "cell_type": "code",
   "execution_count": null,
   "id": "e15ba3e2",
   "metadata": {},
   "outputs": [],
   "source": [
    "4. Defina uma função que possua parâmetros identificados e outros não identificados. \n",
    "Mostre exemplos de sua função com variações no uso dos parâmetros."
   ]
  },
  {
   "cell_type": "code",
   "execution_count": 15,
   "id": "dd9922a3",
   "metadata": {},
   "outputs": [
    {
     "name": "stdout",
     "output_type": "stream",
     "text": [
      "5\n",
      "15\n"
     ]
    }
   ],
   "source": [
    "def soma(x,y):\n",
    "    return x+y\n",
    "\n",
    "def somar_n_valores(*args):\n",
    "    total = 0\n",
    "    for arg in args:\n",
    "        total += arg\n",
    "    return total\n",
    "print(soma(2,3))\n",
    "print(somar_n_valores(1,2,3,4,5))"
   ]
  },
  {
   "cell_type": "code",
   "execution_count": 3,
   "id": "aa31d728",
   "metadata": {},
   "outputs": [
    {
     "ename": "SyntaxError",
     "evalue": "invalid syntax (1319160325.py, line 1)",
     "output_type": "error",
     "traceback": [
      "\u001b[1;36m  File \u001b[1;32m\"C:\\Users\\Marcelo\\AppData\\Local\\Temp\\ipykernel_8720\\1319160325.py\"\u001b[1;36m, line \u001b[1;32m1\u001b[0m\n\u001b[1;33m    5 - Em python o laço FOR não usa índices. Como então podemos percorrer duas listas\u001b[0m\n\u001b[1;37m           ^\u001b[0m\n\u001b[1;31mSyntaxError\u001b[0m\u001b[1;31m:\u001b[0m invalid syntax\n"
     ]
    }
   ],
   "source": [
    "5 - Em python o laço FOR não usa índices. Como então podemos percorrer duas listas \n",
    "imprimindo seus elementos relacionados? Por exemplo, \n",
    "a lista de meses e \n",
    "quantidade de água da chuva precipitada (https://www.climatempo.com.br/climatologia/94/saoluis-ma).\n",
    "Exemplo: meses = ['jan', 'fev', 'mar',... ,'nov', 'dez'] e \n",
    "    precipitacao = [244, 373, 428, ..., 11, 77]."
   ]
  },
  {
   "cell_type": "code",
   "execution_count": 6,
   "id": "4d7477c9",
   "metadata": {},
   "outputs": [
    {
     "name": "stdout",
     "output_type": "stream",
     "text": [
      "{'jan': 244, 'fev': 373, 'mar': 428, 'nov': 11, 'dez': 77}\n",
      "Hello\n"
     ]
    }
   ],
   "source": [
    "meses = ['jan', 'fev', 'mar','nov', 'dez']     \n",
    "precipitacao = [244, 373, 428, 11, 77]\n",
    "juncao = zip(meses,precipitacao)\n",
    "dados = dict(juncao)\n",
    "print(dados)\n",
    "print(\"Hello\")"
   ]
  },
  {
   "cell_type": "code",
   "execution_count": null,
   "id": "2243e5ca",
   "metadata": {},
   "outputs": [],
   "source": [
    "6. Escreva uma função que devolva uma matriz transposta a partir de uma dada\n",
    "em forma de lista de listas. \n",
    "De exemplos de uso. Não use numpy. Somente python básico."
   ]
  },
  {
   "cell_type": "code",
   "execution_count": 23,
   "id": "f9b8cba4",
   "metadata": {},
   "outputs": [
    {
     "name": "stdout",
     "output_type": "stream",
     "text": [
      "[[1, 5, 10, 11], [7, 3, 9, 25], [8, 2, 2, 20]]\n"
     ]
    }
   ],
   "source": [
    "a = [\n",
    "     [1,7,8],\n",
    "     [5,3,2],\n",
    "     [10,9,2],\n",
    "     [11,25,20]\n",
    "    ]\n",
    "\n",
    "\n",
    "def obter_matriz_transposta(matriz):\n",
    "    n_linhas = len(matriz)\n",
    "    n_colunas = len(matriz[0])\n",
    "    matriz_transposta = list()\n",
    "    for col in range(n_colunas):\n",
    "            new_linha = list()\n",
    "            for linha in range(n_linhas):\n",
    "                new_linha.append(matriz[linha][col])\n",
    "                #print(a[linha][col])\n",
    "            matriz_transposta.append(new_linha)\n",
    "    print(matriz_transposta)\n",
    "            \n",
    "obter_matriz_transposta(a)"
   ]
  },
  {
   "cell_type": "code",
   "execution_count": 8,
   "id": "d3ccbf30",
   "metadata": {},
   "outputs": [
    {
     "name": "stdout",
     "output_type": "stream",
     "text": [
      "[[1, 5, 10, 11], [7, 3, 9, 25], [8, 2, 2, 20]]\n"
     ]
    }
   ],
   "source": [
    "\n"
   ]
  },
  {
   "cell_type": "code",
   "execution_count": null,
   "id": "652ddc1e",
   "metadata": {},
   "outputs": [],
   "source": []
  }
 ],
 "metadata": {
  "kernelspec": {
   "display_name": "Python 3 (ipykernel)",
   "language": "python",
   "name": "python3"
  },
  "language_info": {
   "codemirror_mode": {
    "name": "ipython",
    "version": 3
   },
   "file_extension": ".py",
   "mimetype": "text/x-python",
   "name": "python",
   "nbconvert_exporter": "python",
   "pygments_lexer": "ipython3",
   "version": "3.9.13"
  }
 },
 "nbformat": 4,
 "nbformat_minor": 5
}
