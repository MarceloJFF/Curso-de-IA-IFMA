{
 "cells": [
  {
   "cell_type": "code",
   "execution_count": null,
   "id": "6caf1f7b",
   "metadata": {},
   "outputs": [],
   "source": []
  },
  {
   "cell_type": "code",
   "execution_count": 1,
   "id": "c8b36e5f",
   "metadata": {},
   "outputs": [
    {
     "name": "stdout",
     "output_type": "stream",
     "text": [
      "0    1.3\n",
      "1    0.2\n",
      "2   -3.0\n",
      "3    0.9\n",
      "4   -0.5\n",
      "Name: crescimento, dtype: float64\n"
     ]
    },
    {
     "ename": "ValueError",
     "evalue": "Length of values (4) does not match length of index (15)",
     "output_type": "error",
     "traceback": [
      "\u001b[1;31m---------------------------------------------------------------------------\u001b[0m",
      "\u001b[1;31mValueError\u001b[0m                                Traceback (most recent call last)",
      "\u001b[1;32m~\\AppData\\Local\\Temp\\ipykernel_11304\\690394628.py\u001b[0m in \u001b[0;36m<module>\u001b[1;34m\u001b[0m\n\u001b[0;32m     45\u001b[0m \u001b[1;33m\u001b[0m\u001b[0m\n\u001b[0;32m     46\u001b[0m \u001b[0mpeso\u001b[0m \u001b[1;33m=\u001b[0m \u001b[0mnp\u001b[0m\u001b[1;33m.\u001b[0m\u001b[0mrandom\u001b[0m\u001b[1;33m.\u001b[0m\u001b[0mnormal\u001b[0m\u001b[1;33m(\u001b[0m\u001b[1;36m75\u001b[0m\u001b[1;33m,\u001b[0m\u001b[1;36m10\u001b[0m\u001b[1;33m,\u001b[0m\u001b[1;36m4\u001b[0m\u001b[1;33m)\u001b[0m\u001b[1;33m\u001b[0m\u001b[1;33m\u001b[0m\u001b[0m\n\u001b[1;32m---> 47\u001b[1;33m \u001b[0mdf\u001b[0m\u001b[1;33m[\u001b[0m\u001b[1;34m'peso'\u001b[0m\u001b[1;33m]\u001b[0m\u001b[1;33m=\u001b[0m \u001b[0mpeso\u001b[0m\u001b[1;33m\u001b[0m\u001b[1;33m\u001b[0m\u001b[0m\n\u001b[0m",
      "\u001b[1;32m~\\anaconda3\\lib\\site-packages\\pandas\\core\\frame.py\u001b[0m in \u001b[0;36m__setitem__\u001b[1;34m(self, key, value)\u001b[0m\n\u001b[0;32m   3653\u001b[0m         \u001b[1;32melse\u001b[0m\u001b[1;33m:\u001b[0m\u001b[1;33m\u001b[0m\u001b[1;33m\u001b[0m\u001b[0m\n\u001b[0;32m   3654\u001b[0m             \u001b[1;31m# set column\u001b[0m\u001b[1;33m\u001b[0m\u001b[1;33m\u001b[0m\u001b[0m\n\u001b[1;32m-> 3655\u001b[1;33m             \u001b[0mself\u001b[0m\u001b[1;33m.\u001b[0m\u001b[0m_set_item\u001b[0m\u001b[1;33m(\u001b[0m\u001b[0mkey\u001b[0m\u001b[1;33m,\u001b[0m \u001b[0mvalue\u001b[0m\u001b[1;33m)\u001b[0m\u001b[1;33m\u001b[0m\u001b[1;33m\u001b[0m\u001b[0m\n\u001b[0m\u001b[0;32m   3656\u001b[0m \u001b[1;33m\u001b[0m\u001b[0m\n\u001b[0;32m   3657\u001b[0m     \u001b[1;32mdef\u001b[0m \u001b[0m_setitem_slice\u001b[0m\u001b[1;33m(\u001b[0m\u001b[0mself\u001b[0m\u001b[1;33m,\u001b[0m \u001b[0mkey\u001b[0m\u001b[1;33m:\u001b[0m \u001b[0mslice\u001b[0m\u001b[1;33m,\u001b[0m \u001b[0mvalue\u001b[0m\u001b[1;33m)\u001b[0m\u001b[1;33m:\u001b[0m\u001b[1;33m\u001b[0m\u001b[1;33m\u001b[0m\u001b[0m\n",
      "\u001b[1;32m~\\anaconda3\\lib\\site-packages\\pandas\\core\\frame.py\u001b[0m in \u001b[0;36m_set_item\u001b[1;34m(self, key, value)\u001b[0m\n\u001b[0;32m   3830\u001b[0m         \u001b[0mensure\u001b[0m \u001b[0mhomogeneity\u001b[0m\u001b[1;33m.\u001b[0m\u001b[1;33m\u001b[0m\u001b[1;33m\u001b[0m\u001b[0m\n\u001b[0;32m   3831\u001b[0m         \"\"\"\n\u001b[1;32m-> 3832\u001b[1;33m         \u001b[0mvalue\u001b[0m \u001b[1;33m=\u001b[0m \u001b[0mself\u001b[0m\u001b[1;33m.\u001b[0m\u001b[0m_sanitize_column\u001b[0m\u001b[1;33m(\u001b[0m\u001b[0mvalue\u001b[0m\u001b[1;33m)\u001b[0m\u001b[1;33m\u001b[0m\u001b[1;33m\u001b[0m\u001b[0m\n\u001b[0m\u001b[0;32m   3833\u001b[0m \u001b[1;33m\u001b[0m\u001b[0m\n\u001b[0;32m   3834\u001b[0m         if (\n",
      "\u001b[1;32m~\\anaconda3\\lib\\site-packages\\pandas\\core\\frame.py\u001b[0m in \u001b[0;36m_sanitize_column\u001b[1;34m(self, value)\u001b[0m\n\u001b[0;32m   4536\u001b[0m \u001b[1;33m\u001b[0m\u001b[0m\n\u001b[0;32m   4537\u001b[0m         \u001b[1;32mif\u001b[0m \u001b[0mis_list_like\u001b[0m\u001b[1;33m(\u001b[0m\u001b[0mvalue\u001b[0m\u001b[1;33m)\u001b[0m\u001b[1;33m:\u001b[0m\u001b[1;33m\u001b[0m\u001b[1;33m\u001b[0m\u001b[0m\n\u001b[1;32m-> 4538\u001b[1;33m             \u001b[0mcom\u001b[0m\u001b[1;33m.\u001b[0m\u001b[0mrequire_length_match\u001b[0m\u001b[1;33m(\u001b[0m\u001b[0mvalue\u001b[0m\u001b[1;33m,\u001b[0m \u001b[0mself\u001b[0m\u001b[1;33m.\u001b[0m\u001b[0mindex\u001b[0m\u001b[1;33m)\u001b[0m\u001b[1;33m\u001b[0m\u001b[1;33m\u001b[0m\u001b[0m\n\u001b[0m\u001b[0;32m   4539\u001b[0m         \u001b[1;32mreturn\u001b[0m \u001b[0msanitize_array\u001b[0m\u001b[1;33m(\u001b[0m\u001b[0mvalue\u001b[0m\u001b[1;33m,\u001b[0m \u001b[0mself\u001b[0m\u001b[1;33m.\u001b[0m\u001b[0mindex\u001b[0m\u001b[1;33m,\u001b[0m \u001b[0mcopy\u001b[0m\u001b[1;33m=\u001b[0m\u001b[1;32mTrue\u001b[0m\u001b[1;33m,\u001b[0m \u001b[0mallow_2d\u001b[0m\u001b[1;33m=\u001b[0m\u001b[1;32mTrue\u001b[0m\u001b[1;33m)\u001b[0m\u001b[1;33m\u001b[0m\u001b[1;33m\u001b[0m\u001b[0m\n\u001b[0;32m   4540\u001b[0m \u001b[1;33m\u001b[0m\u001b[0m\n",
      "\u001b[1;32m~\\anaconda3\\lib\\site-packages\\pandas\\core\\common.py\u001b[0m in \u001b[0;36mrequire_length_match\u001b[1;34m(data, index)\u001b[0m\n\u001b[0;32m    555\u001b[0m     \"\"\"\n\u001b[0;32m    556\u001b[0m     \u001b[1;32mif\u001b[0m \u001b[0mlen\u001b[0m\u001b[1;33m(\u001b[0m\u001b[0mdata\u001b[0m\u001b[1;33m)\u001b[0m \u001b[1;33m!=\u001b[0m \u001b[0mlen\u001b[0m\u001b[1;33m(\u001b[0m\u001b[0mindex\u001b[0m\u001b[1;33m)\u001b[0m\u001b[1;33m:\u001b[0m\u001b[1;33m\u001b[0m\u001b[1;33m\u001b[0m\u001b[0m\n\u001b[1;32m--> 557\u001b[1;33m         raise ValueError(\n\u001b[0m\u001b[0;32m    558\u001b[0m             \u001b[1;34m\"Length of values \"\u001b[0m\u001b[1;33m\u001b[0m\u001b[1;33m\u001b[0m\u001b[0m\n\u001b[0;32m    559\u001b[0m             \u001b[1;34mf\"({len(data)}) \"\u001b[0m\u001b[1;33m\u001b[0m\u001b[1;33m\u001b[0m\u001b[0m\n",
      "\u001b[1;31mValueError\u001b[0m: Length of values (4) does not match length of index (15)"
     ]
    }
   ],
   "source": [
    "import pandas as pd\n",
    "import numpy as np\n",
    "\n",
    "\n",
    "s = pd.Series([1.3,0.2,-3,0.9,-0.5],name='crescimento')\n",
    "print(s)\n",
    "\n",
    "pop_br_dict = {'Sudeste':88371433,'Nordeste':57071654, \n",
    "               'Sul':29975984, 'Norte':18430980, \n",
    "               'Centro-Oeste':16297074}\n",
    "\n",
    "#pop_br = pd.Series(pop_br_dict)\n",
    "#print(pop_br[\"Norte\":\"Centro-Oeste\"])\n",
    "\n",
    "#pop_br.index = [\"SE\",\"NE\",\"SU\",\"NO\",\"CO\"]\n",
    "#pop_br.sum()\n",
    "\n",
    "#s = pd.DataFrame(pop_br,columns=[\"Populacao\"])\n",
    "\n",
    "\n",
    "s1 = pd.Series(np.random.randint(15,45,15))           # 15 números aleatorios de 15 a 45\n",
    "s2 = pd.Series(np.random.normal(170,5,15))            # 15 números com média 170 e desv 5\n",
    "s3 = pd.Series(np.random.binomial(n=1,p=0.5,size=15)) # processo binomial, n=1, p=0.5\n",
    "s3= s3.apply(lambda x: 'F' if x==0 else 'M')          # substituir 0 por 'F' e 1 por 'M'\n",
    "\n",
    "\n",
    "df = pd.DataFrame({\"idade\":s1,\"altura\":s2})\n",
    "df.columns = ['IDADE','ALTURA']\n",
    "\n",
    "\n",
    "\n",
    "p1 = {'nome': 'Ana', 'idade':23, 'altura':1.82, 'CPF':1234}\n",
    "p2 = {'nome': 'Bia', 'idade':27, 'altura':1.65, 'CPF':5678}\n",
    "p3 = {'nome': 'Carlos', 'idade': 21, 'altura':1.73, 'CPF': 9012}\n",
    "p4 = {'nome':'Davi', 'idade':33, 'altura': 1.68, 'CPF':3456}\n",
    "\n",
    "#criando dataframes a partir de uma lista de dicionários\n",
    "#df2 = pd.DataFrame([p1,p2,p3,p4])\n",
    "#df2.columns = [\"nome\",\"altura\",\"CPF\",\"idade\"]\n",
    "#df2 = pd.DataFrame([p1,p2,p3,p4], columns = [\"nome\",\"altura\",\"idade\"])\n",
    "#df2 = pd.DataFrame([p1,p2,p3,p4],columns = [\"nome\",\"altura\",\"idade\",\"profissao\"])\n",
    "\n",
    "#df3= np.random.rand(5,5)\n",
    "#pd.DataFrame(df3)\n",
    "\n",
    "peso = np.random.normal(75,10,4)\n",
    "df['peso']= peso"
   ]
  },
  {
   "cell_type": "code",
   "execution_count": 65,
   "id": "fdf6e21b",
   "metadata": {},
   "outputs": [
    {
     "ename": "SyntaxError",
     "evalue": "invalid syntax (3370694426.py, line 48)",
     "output_type": "error",
     "traceback": [
      "\u001b[1;36m  File \u001b[1;32m\"C:\\Users\\Marcelo\\AppData\\Local\\Temp\\ipykernel_9788\\3370694426.py\"\u001b[1;36m, line \u001b[1;32m48\u001b[0m\n\u001b[1;33m    df_imoveis.(columns=\"id\").groupby([\"cidade\"])\u001b[0m\n\u001b[1;37m               ^\u001b[0m\n\u001b[1;31mSyntaxError\u001b[0m\u001b[1;31m:\u001b[0m invalid syntax\n"
     ]
    }
   ],
   "source": [
    "import pandas as pd\n",
    "import numpy as np\n",
    "\n",
    "#lendo dataframe\n",
    "df_imoveis=pd.read_csv('casa_e_ap_venda_slz-2019.csv')\n",
    "df_imoveis[\"ano\"] = \"2019\"\n",
    "#df_imoveis.describe()\n",
    "#df_imoveis.var(numeric_only=True)\n",
    "\n",
    "#gby_imo = df_imoveis.groupby('bairro') # cria um objeto DataFrameGroupBy\n",
    "#f = lambda x: max(x) \n",
    "\n",
    "#df_imoveis.apply(f)\n",
    "\n",
    "\n",
    "#df_imoveis.sort_values(by=[\"preco\"]).sort_index(ascending=False) # ordena os numeros pelo preco ou seja atributos dinamicos pelo nome\n",
    "#df_imoveis[\"id\"].is_unique #verififcar se essa coluna os registros são únicos \n",
    "#df_imoveis.sort_index(axis = 1).sort_index(ascending=False) #ordena pelo eixo x ou y\n",
    "#df_imoveis.sample(n=10)escolhe 10 linhas aleatoriamente\n",
    "#print(gby_imo)\n",
    "\n",
    "#filtroo acima de 100000 preco\n",
    "#print(df_imoveis[df_imoveis[\"preco\"]>10000])\n",
    "\n",
    "#serie de bairros\n",
    "#print(df_imoveis[\"bairro\"]\n",
    "#todas as linhas mas somente 2 colunas\n",
    "#print(df_imoveis[[\"bairro\",\"preco\"]])\n",
    "\n",
    "#so 3 linhas\n",
    "#df_imoveis[:2]\n",
    "\n",
    "#iloc x loc\n",
    "#loc faz uso do fancy index e localiza pelo número\n",
    "\n",
    "#linhas 2 e 0 e colunas até a 8\n",
    "#df_imoveis.iloc[[2,0 ], :8]\n",
    "#df_imoveis.iloc[0:10, [4,8]]\n",
    "\n",
    "#df_imoveis.loc[:,['tipo':'bairro']]\n",
    "\n",
    "\n",
    "\n",
    "#df_imoveis[df_imoveis['cidade']=='São José de Ribamar/MA'].sort_values(by='preco').head(10).drop(columns=\"id\").groupby([\"preco\"]).median()\n",
    "\n",
    "\n",
    "\n",
    "#df_imoveis[df_imoveis['cidade']=='Paço do Lumiar/MA'].median(numeric_only=True).drop(columns=\"id\")"
   ]
  },
  {
   "cell_type": "code",
   "execution_count": 8,
   "id": "2f1ed4e1",
   "metadata": {},
   "outputs": [
    {
     "name": "stdout",
     "output_type": "stream",
     "text": [
      "[[0.03278909 0.2080525  0.59874058 0.61119948]\n",
      " [0.6364594  0.19607743 0.99721655 0.12276663]\n",
      " [0.28963332 0.96771961 0.54173625 0.7665687 ]]\n",
      "[[0.03278909 0.2080525  0.59874058]\n",
      " [0.61119948 0.6364594  0.19607743]\n",
      " [0.99721655 0.12276663 0.28963332]\n",
      " [0.96771961 0.54173625 0.7665687 ]]\n"
     ]
    }
   ],
   "source": [
    "import numpy as np\n",
    "import pandas as pd\n",
    "\n",
    "a = np.random.rand(4,3)\n",
    "print(a.reshape(3,4))\n",
    "print(a)"
   ]
  },
  {
   "cell_type": "code",
   "execution_count": 14,
   "id": "360e4343",
   "metadata": {},
   "outputs": [
    {
     "name": "stdout",
     "output_type": "stream",
     "text": [
      "0    1.3\n",
      "1    0.2\n",
      "2   -3.0\n",
      "3    0.9\n",
      "4   -0.5\n",
      "Name: crescimento, dtype: float64\n"
     ]
    },
    {
     "data": {
      "text/plain": [
       "1    0.2\n",
       "2   -3.0\n",
       "3    0.9\n",
       "dtype: float64"
      ]
     },
     "execution_count": 14,
     "metadata": {},
     "output_type": "execute_result"
    }
   ],
   "source": [
    "#Series \n",
    "s = pd.Series([1.3,0.2,-3,0.9,-0.5])\n",
    "s2 = pd.Series([1.3,0.2,-3,0.9,-0.5],name=\"crescimento\")\n",
    "\n",
    "print(s2)\n",
    "s.values\n",
    "s.name\n",
    "\n",
    "s[2]\n",
    "s[1:4]\n"
   ]
  },
  {
   "cell_type": "code",
   "execution_count": 16,
   "id": "bc422e3c",
   "metadata": {},
   "outputs": [
    {
     "data": {
      "text/plain": [
       "2"
      ]
     },
     "execution_count": 16,
     "metadata": {},
     "output_type": "execute_result"
    }
   ],
   "source": [
    "#modificacoes dos indices de series\n",
    "s3 = pd.Series([1,2,3,4], index=[\"a\", \"b\",\"c\",\"d\"])\n",
    "s3[\"b\"]"
   ]
  },
  {
   "cell_type": "code",
   "execution_count": 25,
   "id": "b4d06a73",
   "metadata": {},
   "outputs": [
    {
     "data": {
      "text/plain": [
       "Nordeste    57071654\n",
       "Sul         29975984\n",
       "Norte       18430980\n",
       "Name: Populacao, dtype: int64"
      ]
     },
     "execution_count": 25,
     "metadata": {},
     "output_type": "execute_result"
    }
   ],
   "source": [
    "#Series a partir de dicionarios\n",
    "pop_br_dict = {\"Sudeste\": 88371433, \"Nordeste\":57071654,\"Sul\":29975984,\"Norte\":18430980, \n",
    "              \"Centro-Oeste\":16297074 }\n",
    "pop_br_dict\n",
    "\n",
    "pop_br = pd.Series(pop_br_dict,name=\"Populacao\")\n",
    "pop_br\n",
    "pop_br[\"Norte\"]\n",
    "pop_br[\"Sudeste\":\"Norte\"]\n",
    "pop_br[1:4]"
   ]
  },
  {
   "cell_type": "code",
   "execution_count": 26,
   "id": "69eeb5a1",
   "metadata": {},
   "outputs": [
    {
     "data": {
      "text/plain": [
       "SE    88371433\n",
       "NE    57071654\n",
       "S     29975984\n",
       "N     18430980\n",
       "CO    16297074\n",
       "Name: Populacao, dtype: int64"
      ]
     },
     "execution_count": 26,
     "metadata": {},
     "output_type": "execute_result"
    }
   ],
   "source": [
    "#Modificando colunas da series \n",
    "pop_br.index=[\"SE\",\"NE\",\"S\",\"N\",\"CO\"]\n",
    "pop_br"
   ]
  },
  {
   "cell_type": "code",
   "execution_count": 27,
   "id": "515b3549",
   "metadata": {},
   "outputs": [
    {
     "data": {
      "text/plain": [
       "0    5\n",
       "dtype: int64"
      ]
     },
     "execution_count": 27,
     "metadata": {},
     "output_type": "execute_result"
    }
   ],
   "source": [
    "#Series com escalar\n",
    "pd.Series(5)"
   ]
  },
  {
   "cell_type": "code",
   "execution_count": 28,
   "id": "1009a3d4",
   "metadata": {},
   "outputs": [
    {
     "data": {
      "text/plain": [
       "1    5\n",
       "2    5\n",
       "3    5\n",
       "4    5\n",
       "dtype: int64"
      ]
     },
     "execution_count": 28,
     "metadata": {},
     "output_type": "execute_result"
    }
   ],
   "source": [
    "# Series escalar com broadcast\n",
    "pd.Series(5,index = [1,2,3,4])\n"
   ]
  },
  {
   "cell_type": "code",
   "execution_count": 29,
   "id": "9c9d30e9",
   "metadata": {},
   "outputs": [
    {
     "data": {
      "text/plain": [
       "210147125"
      ]
     },
     "execution_count": 29,
     "metadata": {},
     "output_type": "execute_result"
    }
   ],
   "source": [
    "#funcoes de nd array disponiveis para series\n",
    "pop_br.sum()"
   ]
  },
  {
   "cell_type": "code",
   "execution_count": 30,
   "id": "1b91f66f",
   "metadata": {},
   "outputs": [
    {
     "data": {
      "text/plain": [
       "42029425.0"
      ]
     },
     "execution_count": 30,
     "metadata": {},
     "output_type": "execute_result"
    }
   ],
   "source": [
    "pop_br.mean()"
   ]
  },
  {
   "cell_type": "code",
   "execution_count": 68,
   "id": "bd2f2a4c",
   "metadata": {},
   "outputs": [
    {
     "data": {
      "text/html": [
       "<div>\n",
       "<style scoped>\n",
       "    .dataframe tbody tr th:only-of-type {\n",
       "        vertical-align: middle;\n",
       "    }\n",
       "\n",
       "    .dataframe tbody tr th {\n",
       "        vertical-align: top;\n",
       "    }\n",
       "\n",
       "    .dataframe thead th {\n",
       "        text-align: right;\n",
       "    }\n",
       "</style>\n",
       "<table border=\"1\" class=\"dataframe\">\n",
       "  <thead>\n",
       "    <tr style=\"text-align: right;\">\n",
       "      <th></th>\n",
       "      <th>col 1</th>\n",
       "    </tr>\n",
       "  </thead>\n",
       "  <tbody>\n",
       "    <tr>\n",
       "      <th>0</th>\n",
       "      <td>3.4</td>\n",
       "    </tr>\n",
       "    <tr>\n",
       "      <th>1</th>\n",
       "      <td>9.7</td>\n",
       "    </tr>\n",
       "    <tr>\n",
       "      <th>2</th>\n",
       "      <td>21.0</td>\n",
       "    </tr>\n",
       "    <tr>\n",
       "      <th>3</th>\n",
       "      <td>0.0</td>\n",
       "    </tr>\n",
       "    <tr>\n",
       "      <th>4</th>\n",
       "      <td>10.5</td>\n",
       "    </tr>\n",
       "    <tr>\n",
       "      <th>5</th>\n",
       "      <td>-2.1</td>\n",
       "    </tr>\n",
       "    <tr>\n",
       "      <th>6</th>\n",
       "      <td>4.9</td>\n",
       "    </tr>\n",
       "  </tbody>\n",
       "</table>\n",
       "</div>"
      ],
      "text/plain": [
       "   col 1\n",
       "0    3.4\n",
       "1    9.7\n",
       "2   21.0\n",
       "3    0.0\n",
       "4   10.5\n",
       "5   -2.1\n",
       "6    4.9"
      ]
     },
     "execution_count": 68,
     "metadata": {},
     "output_type": "execute_result"
    }
   ],
   "source": [
    "#DataFrame = Semelhantes a tabelas\n",
    "s = pd.Series([3.4,9.7,21,0,10.5,-2.1,4.9])\n",
    "pd.DataFrame(s,columns = [\"col 1\"])\n",
    "\n",
    "\n"
   ]
  },
  {
   "cell_type": "code",
   "execution_count": 69,
   "id": "38e2319a",
   "metadata": {},
   "outputs": [
    {
     "data": {
      "text/html": [
       "<div>\n",
       "<style scoped>\n",
       "    .dataframe tbody tr th:only-of-type {\n",
       "        vertical-align: middle;\n",
       "    }\n",
       "\n",
       "    .dataframe tbody tr th {\n",
       "        vertical-align: top;\n",
       "    }\n",
       "\n",
       "    .dataframe thead th {\n",
       "        text-align: right;\n",
       "    }\n",
       "</style>\n",
       "<table border=\"1\" class=\"dataframe\">\n",
       "  <thead>\n",
       "    <tr style=\"text-align: right;\">\n",
       "      <th></th>\n",
       "      <th>idade</th>\n",
       "      <th>altura</th>\n",
       "      <th>sexo</th>\n",
       "    </tr>\n",
       "  </thead>\n",
       "  <tbody>\n",
       "    <tr>\n",
       "      <th>0</th>\n",
       "      <td>34</td>\n",
       "      <td>166.900997</td>\n",
       "      <td>M</td>\n",
       "    </tr>\n",
       "    <tr>\n",
       "      <th>1</th>\n",
       "      <td>27</td>\n",
       "      <td>164.228172</td>\n",
       "      <td>F</td>\n",
       "    </tr>\n",
       "    <tr>\n",
       "      <th>2</th>\n",
       "      <td>26</td>\n",
       "      <td>163.716367</td>\n",
       "      <td>M</td>\n",
       "    </tr>\n",
       "    <tr>\n",
       "      <th>3</th>\n",
       "      <td>31</td>\n",
       "      <td>178.815544</td>\n",
       "      <td>F</td>\n",
       "    </tr>\n",
       "    <tr>\n",
       "      <th>4</th>\n",
       "      <td>28</td>\n",
       "      <td>174.584524</td>\n",
       "      <td>F</td>\n",
       "    </tr>\n",
       "  </tbody>\n",
       "</table>\n",
       "</div>"
      ],
      "text/plain": [
       "   idade      altura sexo\n",
       "0     34  166.900997    M\n",
       "1     27  164.228172    F\n",
       "2     26  163.716367    M\n",
       "3     31  178.815544    F\n",
       "4     28  174.584524    F"
      ]
     },
     "execution_count": 69,
     "metadata": {},
     "output_type": "execute_result"
    }
   ],
   "source": [
    "#DataFrame de Dicionario a partir de séries\n",
    "s1 = pd.Series(np.random.randint(18,40,15))\n",
    "s2 = pd.Series(np.random.normal(170,5,15))\n",
    "s3 = pd.Series(np.random.binomial(n=1,p=0.5,size=15))\n",
    "\n",
    "s3 = s3.apply(lambda x: \"F\" if x == 0 else \"M\")\n",
    "df = pd.DataFrame({\"idade\":s1,\"altura\":s2,\"sexo\":s3})\n",
    "df.head()"
   ]
  },
  {
   "cell_type": "code",
   "execution_count": 70,
   "id": "b02ea7b5",
   "metadata": {},
   "outputs": [],
   "source": [
    "#modificando as colunas\n",
    "#df.columns = [\"idade\",\"altura\",\"sexo\"]\n"
   ]
  },
  {
   "cell_type": "code",
   "execution_count": 77,
   "id": "4b2b0803",
   "metadata": {},
   "outputs": [
    {
     "data": {
      "text/html": [
       "<div>\n",
       "<style scoped>\n",
       "    .dataframe tbody tr th:only-of-type {\n",
       "        vertical-align: middle;\n",
       "    }\n",
       "\n",
       "    .dataframe tbody tr th {\n",
       "        vertical-align: top;\n",
       "    }\n",
       "\n",
       "    .dataframe thead th {\n",
       "        text-align: right;\n",
       "    }\n",
       "</style>\n",
       "<table border=\"1\" class=\"dataframe\">\n",
       "  <thead>\n",
       "    <tr style=\"text-align: right;\">\n",
       "      <th></th>\n",
       "      <th>nome</th>\n",
       "      <th>idade</th>\n",
       "      <th>altura</th>\n",
       "      <th>CPF</th>\n",
       "      <th>nascimento</th>\n",
       "    </tr>\n",
       "  </thead>\n",
       "  <tbody>\n",
       "    <tr>\n",
       "      <th>0</th>\n",
       "      <td>Ana</td>\n",
       "      <td>23</td>\n",
       "      <td>1.82</td>\n",
       "      <td>1234</td>\n",
       "      <td>NaN</td>\n",
       "    </tr>\n",
       "    <tr>\n",
       "      <th>1</th>\n",
       "      <td>Bia</td>\n",
       "      <td>27</td>\n",
       "      <td>1.65</td>\n",
       "      <td>7638</td>\n",
       "      <td>NaN</td>\n",
       "    </tr>\n",
       "    <tr>\n",
       "      <th>2</th>\n",
       "      <td>Carlos</td>\n",
       "      <td>21</td>\n",
       "      <td>1.73</td>\n",
       "      <td>9012</td>\n",
       "      <td>NaN</td>\n",
       "    </tr>\n",
       "    <tr>\n",
       "      <th>3</th>\n",
       "      <td>Davi</td>\n",
       "      <td>33</td>\n",
       "      <td>1.68</td>\n",
       "      <td>99212</td>\n",
       "      <td>NaN</td>\n",
       "    </tr>\n",
       "  </tbody>\n",
       "</table>\n",
       "</div>"
      ],
      "text/plain": [
       "     nome  idade  altura    CPF  nascimento\n",
       "0     Ana     23    1.82   1234         NaN\n",
       "1     Bia     27    1.65   7638         NaN\n",
       "2  Carlos     21    1.73   9012         NaN\n",
       "3    Davi     33    1.68  99212         NaN"
      ]
     },
     "execution_count": 77,
     "metadata": {},
     "output_type": "execute_result"
    }
   ],
   "source": [
    "#DataFrame a partor de lista de dicionários\n",
    "p1 = {\"nome\":\"Ana\",\"idade\":23,\"altura\":1.82,\"CPF\":1234}\n",
    "p2 = {\"nome\":\"Bia\",\"idade\":27,\"altura\":1.65,\"CPF\":7638}\n",
    "p3 = {\"nome\":\"Carlos\",\"idade\":21,\"altura\":1.73,\"CPF\":9012}\n",
    "p4 = {\"nome\":\"Davi\",\"idade\":33,\"altura\":1.68,\"CPF\":99212}\n",
    "\n",
    "df = pd.DataFrame([p1,p2,p3,p4],\n",
    "            columns = [\"nome\",\"idade\",\"altura\",\"CPF\",\"nascimento\"]\n",
    "            )\n",
    "\n",
    "df"
   ]
  },
  {
   "cell_type": "code",
   "execution_count": 53,
   "id": "e414255c",
   "metadata": {},
   "outputs": [
    {
     "name": "stdout",
     "output_type": "stream",
     "text": [
      "[[0.81348832 0.53120854 0.83338191 0.58438107 0.47139471]\n",
      " [0.41840111 0.65074851 0.24273215 0.60220355 0.29211062]\n",
      " [0.874491   0.19382055 0.21023208 0.7706972  0.90407784]]\n"
     ]
    },
    {
     "data": {
      "text/html": [
       "<div>\n",
       "<style scoped>\n",
       "    .dataframe tbody tr th:only-of-type {\n",
       "        vertical-align: middle;\n",
       "    }\n",
       "\n",
       "    .dataframe tbody tr th {\n",
       "        vertical-align: top;\n",
       "    }\n",
       "\n",
       "    .dataframe thead th {\n",
       "        text-align: right;\n",
       "    }\n",
       "</style>\n",
       "<table border=\"1\" class=\"dataframe\">\n",
       "  <thead>\n",
       "    <tr style=\"text-align: right;\">\n",
       "      <th></th>\n",
       "      <th>0</th>\n",
       "      <th>1</th>\n",
       "      <th>2</th>\n",
       "      <th>3</th>\n",
       "      <th>4</th>\n",
       "    </tr>\n",
       "  </thead>\n",
       "  <tbody>\n",
       "    <tr>\n",
       "      <th>0</th>\n",
       "      <td>0.813488</td>\n",
       "      <td>0.531209</td>\n",
       "      <td>0.833382</td>\n",
       "      <td>0.584381</td>\n",
       "      <td>0.471395</td>\n",
       "    </tr>\n",
       "    <tr>\n",
       "      <th>1</th>\n",
       "      <td>0.418401</td>\n",
       "      <td>0.650749</td>\n",
       "      <td>0.242732</td>\n",
       "      <td>0.602204</td>\n",
       "      <td>0.292111</td>\n",
       "    </tr>\n",
       "    <tr>\n",
       "      <th>2</th>\n",
       "      <td>0.874491</td>\n",
       "      <td>0.193821</td>\n",
       "      <td>0.210232</td>\n",
       "      <td>0.770697</td>\n",
       "      <td>0.904078</td>\n",
       "    </tr>\n",
       "  </tbody>\n",
       "</table>\n",
       "</div>"
      ],
      "text/plain": [
       "          0         1         2         3         4\n",
       "0  0.813488  0.531209  0.833382  0.584381  0.471395\n",
       "1  0.418401  0.650749  0.242732  0.602204  0.292111\n",
       "2  0.874491  0.193821  0.210232  0.770697  0.904078"
      ]
     },
     "execution_count": 53,
     "metadata": {},
     "output_type": "execute_result"
    }
   ],
   "source": [
    "#DataFrame a partir de um array bi dimensional\n",
    "\n",
    "a = np.random.rand(3,5)\n",
    "print(a)\n",
    "pd.DataFrame(a)"
   ]
  },
  {
   "cell_type": "code",
   "execution_count": 21,
   "id": "d159521f",
   "metadata": {},
   "outputs": [
    {
     "data": {
      "text/html": [
       "<div>\n",
       "<style scoped>\n",
       "    .dataframe tbody tr th:only-of-type {\n",
       "        vertical-align: middle;\n",
       "    }\n",
       "\n",
       "    .dataframe tbody tr th {\n",
       "        vertical-align: top;\n",
       "    }\n",
       "\n",
       "    .dataframe thead th {\n",
       "        text-align: right;\n",
       "    }\n",
       "</style>\n",
       "<table border=\"1\" class=\"dataframe\">\n",
       "  <thead>\n",
       "    <tr style=\"text-align: right;\">\n",
       "      <th></th>\n",
       "      <th>nome</th>\n",
       "      <th>idade</th>\n",
       "      <th>altura</th>\n",
       "      <th>CPF</th>\n",
       "      <th>nascimento</th>\n",
       "      <th>peso</th>\n",
       "      <th>imc</th>\n",
       "    </tr>\n",
       "  </thead>\n",
       "  <tbody>\n",
       "    <tr>\n",
       "      <th>0</th>\n",
       "      <td>Ana</td>\n",
       "      <td>23</td>\n",
       "      <td>1.82</td>\n",
       "      <td>1234</td>\n",
       "      <td>NaN</td>\n",
       "      <td>73.331311</td>\n",
       "      <td>22.138423</td>\n",
       "    </tr>\n",
       "    <tr>\n",
       "      <th>1</th>\n",
       "      <td>Bia</td>\n",
       "      <td>27</td>\n",
       "      <td>1.65</td>\n",
       "      <td>7638</td>\n",
       "      <td>NaN</td>\n",
       "      <td>81.446664</td>\n",
       "      <td>29.916130</td>\n",
       "    </tr>\n",
       "    <tr>\n",
       "      <th>2</th>\n",
       "      <td>Carlos</td>\n",
       "      <td>21</td>\n",
       "      <td>1.73</td>\n",
       "      <td>9012</td>\n",
       "      <td>NaN</td>\n",
       "      <td>74.788764</td>\n",
       "      <td>24.988728</td>\n",
       "    </tr>\n",
       "    <tr>\n",
       "      <th>3</th>\n",
       "      <td>Davi</td>\n",
       "      <td>33</td>\n",
       "      <td>1.68</td>\n",
       "      <td>99212</td>\n",
       "      <td>NaN</td>\n",
       "      <td>66.633149</td>\n",
       "      <td>23.608684</td>\n",
       "    </tr>\n",
       "  </tbody>\n",
       "</table>\n",
       "</div>"
      ],
      "text/plain": [
       "     nome  idade  altura    CPF  nascimento       peso        imc\n",
       "0     Ana     23    1.82   1234         NaN  73.331311  22.138423\n",
       "1     Bia     27    1.65   7638         NaN  81.446664  29.916130\n",
       "2  Carlos     21    1.73   9012         NaN  74.788764  24.988728\n",
       "3    Davi     33    1.68  99212         NaN  66.633149  23.608684"
      ]
     },
     "execution_count": 21,
     "metadata": {},
     "output_type": "execute_result"
    }
   ],
   "source": [
    "# adicionando uma nova coluna no dataframe a partir de um ndarray\n",
    "import numpy as np\n",
    "import pandas as pd\n",
    "p1 = {\"nome\":\"Ana\",\"idade\":23,\"altura\":1.82,\"CPF\":1234}\n",
    "p2 = {\"nome\":\"Bia\",\"idade\":27,\"altura\":1.65,\"CPF\":7638}\n",
    "p3 = {\"nome\":\"Carlos\",\"idade\":21,\"altura\":1.73,\"CPF\":9012}\n",
    "p4 = {\"nome\":\"Davi\",\"idade\":33,\"altura\":1.68,\"CPF\":99212}\n",
    "\n",
    "df = pd.DataFrame([p1,p2,p3,p4],\n",
    "            columns = [\"nome\",\"idade\",\"altura\",\"CPF\",\"nascimento\"]\n",
    "            )\n",
    "\n",
    "\n",
    "peso = np.random.normal(75,10,4)\n",
    "df[\"peso\"] = peso\n",
    "imc = ( (df[\"peso\"])/(df[\"altura\"] **2) ) \n",
    "df[\"imc\"] = imc\n",
    "df.loc[:,\"nome\":\"idade\"]\n",
    "\n",
    "df.iloc[0:4,:5]\n",
    "\n",
    "#notacao simplificada\n",
    "#df[:3]\n",
    "#df[[\"nome\",\"idade\"]] == df.loc[:,[\"nome\",\"idade\"]]\n",
    "df.loc[:,:]"
   ]
  },
  {
   "cell_type": "code",
   "execution_count": 73,
   "id": "08d9f240",
   "metadata": {},
   "outputs": [
    {
     "data": {
      "text/plain": [
       "pandas.core.series.Series"
      ]
     },
     "execution_count": 73,
     "metadata": {},
     "output_type": "execute_result"
    }
   ],
   "source": [
    "#adicionando mais uma nova coluna a partir de um ndarray\n",
    "imc = ( (df[\"peso\"])/(df[\"altura\"] **2) ) \n",
    "type(imc)"
   ]
  },
  {
   "cell_type": "code",
   "execution_count": 10,
   "id": "23f95e92",
   "metadata": {},
   "outputs": [
    {
     "ename": "NameError",
     "evalue": "name 'imc' is not defined",
     "output_type": "error",
     "traceback": [
      "\u001b[1;31m---------------------------------------------------------------------------\u001b[0m",
      "\u001b[1;31mNameError\u001b[0m                                 Traceback (most recent call last)",
      "\u001b[1;32m~\\AppData\\Local\\Temp\\ipykernel_7244\\3201951648.py\u001b[0m in \u001b[0;36m<module>\u001b[1;34m\u001b[0m\n\u001b[1;32m----> 1\u001b[1;33m \u001b[0mdf\u001b[0m\u001b[1;33m[\u001b[0m\u001b[1;34m\"imc\"\u001b[0m\u001b[1;33m]\u001b[0m \u001b[1;33m=\u001b[0m \u001b[0mimc\u001b[0m\u001b[1;33m\u001b[0m\u001b[1;33m\u001b[0m\u001b[0m\n\u001b[0m\u001b[0;32m      2\u001b[0m \u001b[0mdf\u001b[0m\u001b[1;33m.\u001b[0m\u001b[0mhead\u001b[0m\u001b[1;33m(\u001b[0m\u001b[1;33m)\u001b[0m\u001b[1;33m\u001b[0m\u001b[1;33m\u001b[0m\u001b[0m\n",
      "\u001b[1;31mNameError\u001b[0m: name 'imc' is not defined"
     ]
    }
   ],
   "source": [
    "df[\"imc\"] = imc\n",
    "df.head()"
   ]
  },
  {
   "cell_type": "code",
   "execution_count": 22,
   "id": "5dd8d808",
   "metadata": {},
   "outputs": [
    {
     "data": {
      "text/plain": [
       "0       Ana\n",
       "1       Bia\n",
       "2    Carlos\n",
       "3      Davi\n",
       "Name: nome, dtype: object"
      ]
     },
     "execution_count": 22,
     "metadata": {},
     "output_type": "execute_result"
    }
   ],
   "source": [
    "#Indexação implicita (indice numérico) x explícita(usa-se rótulos)\n",
    "\n",
    "df.loc[:,\"nome\":\"idade\"]\n",
    "\n",
    "df[\"nome\"]\n"
   ]
  },
  {
   "cell_type": "code",
   "execution_count": 33,
   "id": "05abca8d",
   "metadata": {},
   "outputs": [
    {
     "data": {
      "text/html": [
       "<div>\n",
       "<style scoped>\n",
       "    .dataframe tbody tr th:only-of-type {\n",
       "        vertical-align: middle;\n",
       "    }\n",
       "\n",
       "    .dataframe tbody tr th {\n",
       "        vertical-align: top;\n",
       "    }\n",
       "\n",
       "    .dataframe thead th {\n",
       "        text-align: right;\n",
       "    }\n",
       "</style>\n",
       "<table border=\"1\" class=\"dataframe\">\n",
       "  <thead>\n",
       "    <tr style=\"text-align: right;\">\n",
       "      <th></th>\n",
       "      <th>nome</th>\n",
       "      <th>idade</th>\n",
       "      <th>altura</th>\n",
       "      <th>CPF</th>\n",
       "      <th>nascimento</th>\n",
       "      <th>peso</th>\n",
       "      <th>imc</th>\n",
       "    </tr>\n",
       "  </thead>\n",
       "  <tbody>\n",
       "    <tr>\n",
       "      <th>0</th>\n",
       "      <td>Ana</td>\n",
       "      <td>23</td>\n",
       "      <td>1.82</td>\n",
       "      <td>1234</td>\n",
       "      <td>NaN</td>\n",
       "      <td>73.331311</td>\n",
       "      <td>22.138423</td>\n",
       "    </tr>\n",
       "  </tbody>\n",
       "</table>\n",
       "</div>"
      ],
      "text/plain": [
       "  nome  idade  altura   CPF  nascimento       peso        imc\n",
       "0  Ana     23    1.82  1234         NaN  73.331311  22.138423"
      ]
     },
     "execution_count": 33,
     "metadata": {},
     "output_type": "execute_result"
    }
   ],
   "source": [
    "#filtros\n",
    "df[(df[\"idade\"]<25) & (df[\"imc\"]<23)]"
   ]
  },
  {
   "cell_type": "code",
   "execution_count": 37,
   "id": "b7f89cd8",
   "metadata": {},
   "outputs": [
    {
     "data": {
      "text/plain": [
       "idade            26.000000\n",
       "altura            1.720000\n",
       "CPF           29274.000000\n",
       "nascimento             NaN\n",
       "peso             74.049972\n",
       "imc              25.162991\n",
       "dtype: float64"
      ]
     },
     "execution_count": 37,
     "metadata": {},
     "output_type": "execute_result"
    }
   ],
   "source": [
    "#funcoes estatistica nos dataframes\n",
    "\n",
    "df.var(numeric_only=True)\n"
   ]
  },
  {
   "cell_type": "code",
   "execution_count": 41,
   "id": "763cd887",
   "metadata": {},
   "outputs": [
    {
     "name": "stderr",
     "output_type": "stream",
     "text": [
      "C:\\Users\\Marcelo\\AppData\\Local\\Temp\\ipykernel_7244\\1801394523.py:2: FutureWarning: ['nome'] did not aggregate successfully. If any error is raised this will raise in a future version of pandas. Drop these columns/ops to avoid this warning.\n",
      "  df.agg(['mean','std'],numeric_only=True)\n"
     ]
    },
    {
     "data": {
      "text/html": [
       "<div>\n",
       "<style scoped>\n",
       "    .dataframe tbody tr th:only-of-type {\n",
       "        vertical-align: middle;\n",
       "    }\n",
       "\n",
       "    .dataframe tbody tr th {\n",
       "        vertical-align: top;\n",
       "    }\n",
       "\n",
       "    .dataframe thead th {\n",
       "        text-align: right;\n",
       "    }\n",
       "</style>\n",
       "<table border=\"1\" class=\"dataframe\">\n",
       "  <thead>\n",
       "    <tr style=\"text-align: right;\">\n",
       "      <th></th>\n",
       "      <th>idade</th>\n",
       "      <th>altura</th>\n",
       "      <th>CPF</th>\n",
       "      <th>nascimento</th>\n",
       "      <th>peso</th>\n",
       "      <th>imc</th>\n",
       "    </tr>\n",
       "  </thead>\n",
       "  <tbody>\n",
       "    <tr>\n",
       "      <th>mean</th>\n",
       "      <td>26.000000</td>\n",
       "      <td>1.720000</td>\n",
       "      <td>29274.000000</td>\n",
       "      <td>NaN</td>\n",
       "      <td>74.049972</td>\n",
       "      <td>25.162991</td>\n",
       "    </tr>\n",
       "    <tr>\n",
       "      <th>std</th>\n",
       "      <td>5.291503</td>\n",
       "      <td>0.074386</td>\n",
       "      <td>46748.371038</td>\n",
       "      <td>NaN</td>\n",
       "      <td>6.076803</td>\n",
       "      <td>3.375726</td>\n",
       "    </tr>\n",
       "  </tbody>\n",
       "</table>\n",
       "</div>"
      ],
      "text/plain": [
       "          idade    altura           CPF  nascimento       peso        imc\n",
       "mean  26.000000  1.720000  29274.000000         NaN  74.049972  25.162991\n",
       "std    5.291503  0.074386  46748.371038         NaN   6.076803   3.375726"
      ]
     },
     "execution_count": 41,
     "metadata": {},
     "output_type": "execute_result"
    }
   ],
   "source": [
    "#chamando as funcoes estatistica com o agg\n",
    "df.agg(['mean','std'],numeric_only=True)\n"
   ]
  },
  {
   "cell_type": "code",
   "execution_count": 42,
   "id": "39b8fc72",
   "metadata": {},
   "outputs": [
    {
     "data": {
      "text/html": [
       "<div>\n",
       "<style scoped>\n",
       "    .dataframe tbody tr th:only-of-type {\n",
       "        vertical-align: middle;\n",
       "    }\n",
       "\n",
       "    .dataframe tbody tr th {\n",
       "        vertical-align: top;\n",
       "    }\n",
       "\n",
       "    .dataframe thead th {\n",
       "        text-align: right;\n",
       "    }\n",
       "</style>\n",
       "<table border=\"1\" class=\"dataframe\">\n",
       "  <thead>\n",
       "    <tr style=\"text-align: right;\">\n",
       "      <th></th>\n",
       "      <th>idade</th>\n",
       "      <th>altura</th>\n",
       "      <th>CPF</th>\n",
       "      <th>nascimento</th>\n",
       "      <th>peso</th>\n",
       "      <th>imc</th>\n",
       "    </tr>\n",
       "  </thead>\n",
       "  <tbody>\n",
       "    <tr>\n",
       "      <th>count</th>\n",
       "      <td>4.000000</td>\n",
       "      <td>4.000000</td>\n",
       "      <td>4.000000</td>\n",
       "      <td>0.0</td>\n",
       "      <td>4.000000</td>\n",
       "      <td>4.000000</td>\n",
       "    </tr>\n",
       "    <tr>\n",
       "      <th>mean</th>\n",
       "      <td>26.000000</td>\n",
       "      <td>1.720000</td>\n",
       "      <td>29274.000000</td>\n",
       "      <td>NaN</td>\n",
       "      <td>74.049972</td>\n",
       "      <td>25.162991</td>\n",
       "    </tr>\n",
       "    <tr>\n",
       "      <th>std</th>\n",
       "      <td>5.291503</td>\n",
       "      <td>0.074386</td>\n",
       "      <td>46748.371038</td>\n",
       "      <td>NaN</td>\n",
       "      <td>6.076803</td>\n",
       "      <td>3.375726</td>\n",
       "    </tr>\n",
       "    <tr>\n",
       "      <th>min</th>\n",
       "      <td>21.000000</td>\n",
       "      <td>1.650000</td>\n",
       "      <td>1234.000000</td>\n",
       "      <td>NaN</td>\n",
       "      <td>66.633149</td>\n",
       "      <td>22.138423</td>\n",
       "    </tr>\n",
       "    <tr>\n",
       "      <th>25%</th>\n",
       "      <td>22.500000</td>\n",
       "      <td>1.672500</td>\n",
       "      <td>6037.000000</td>\n",
       "      <td>NaN</td>\n",
       "      <td>71.656771</td>\n",
       "      <td>23.241118</td>\n",
       "    </tr>\n",
       "    <tr>\n",
       "      <th>50%</th>\n",
       "      <td>25.000000</td>\n",
       "      <td>1.705000</td>\n",
       "      <td>8325.000000</td>\n",
       "      <td>NaN</td>\n",
       "      <td>74.060037</td>\n",
       "      <td>24.298706</td>\n",
       "    </tr>\n",
       "    <tr>\n",
       "      <th>75%</th>\n",
       "      <td>28.500000</td>\n",
       "      <td>1.752500</td>\n",
       "      <td>31562.000000</td>\n",
       "      <td>NaN</td>\n",
       "      <td>76.453239</td>\n",
       "      <td>26.220578</td>\n",
       "    </tr>\n",
       "    <tr>\n",
       "      <th>max</th>\n",
       "      <td>33.000000</td>\n",
       "      <td>1.820000</td>\n",
       "      <td>99212.000000</td>\n",
       "      <td>NaN</td>\n",
       "      <td>81.446664</td>\n",
       "      <td>29.916130</td>\n",
       "    </tr>\n",
       "  </tbody>\n",
       "</table>\n",
       "</div>"
      ],
      "text/plain": [
       "           idade    altura           CPF  nascimento       peso        imc\n",
       "count   4.000000  4.000000      4.000000         0.0   4.000000   4.000000\n",
       "mean   26.000000  1.720000  29274.000000         NaN  74.049972  25.162991\n",
       "std     5.291503  0.074386  46748.371038         NaN   6.076803   3.375726\n",
       "min    21.000000  1.650000   1234.000000         NaN  66.633149  22.138423\n",
       "25%    22.500000  1.672500   6037.000000         NaN  71.656771  23.241118\n",
       "50%    25.000000  1.705000   8325.000000         NaN  74.060037  24.298706\n",
       "75%    28.500000  1.752500  31562.000000         NaN  76.453239  26.220578\n",
       "max    33.000000  1.820000  99212.000000         NaN  81.446664  29.916130"
      ]
     },
     "execution_count": 42,
     "metadata": {},
     "output_type": "execute_result"
    }
   ],
   "source": [
    "#metodos padroes\n",
    "df.describe()"
   ]
  },
  {
   "cell_type": "code",
   "execution_count": 43,
   "id": "12e2c499",
   "metadata": {},
   "outputs": [
    {
     "data": {
      "text/plain": [
       "idade     0.071247\n",
       "altura   -0.762948\n",
       "peso      0.791838\n",
       "imc       1.000000\n",
       "dtype: float64"
      ]
     },
     "execution_count": 43,
     "metadata": {},
     "output_type": "execute_result"
    }
   ],
   "source": [
    "df[['idade','altura','peso','imc']].corrwith(df['imc'])"
   ]
  },
  {
   "cell_type": "code",
   "execution_count": 44,
   "id": "1c4b50a0",
   "metadata": {},
   "outputs": [
    {
     "data": {
      "text/html": [
       "<div>\n",
       "<style scoped>\n",
       "    .dataframe tbody tr th:only-of-type {\n",
       "        vertical-align: middle;\n",
       "    }\n",
       "\n",
       "    .dataframe tbody tr th {\n",
       "        vertical-align: top;\n",
       "    }\n",
       "\n",
       "    .dataframe thead th {\n",
       "        text-align: right;\n",
       "    }\n",
       "</style>\n",
       "<table border=\"1\" class=\"dataframe\">\n",
       "  <thead>\n",
       "    <tr style=\"text-align: right;\">\n",
       "      <th></th>\n",
       "      <th>CPF</th>\n",
       "      <th>altura</th>\n",
       "      <th>idade</th>\n",
       "      <th>imc</th>\n",
       "      <th>nascimento</th>\n",
       "      <th>nome</th>\n",
       "      <th>peso</th>\n",
       "    </tr>\n",
       "  </thead>\n",
       "  <tbody>\n",
       "    <tr>\n",
       "      <th>0</th>\n",
       "      <td>1234</td>\n",
       "      <td>1.82</td>\n",
       "      <td>23</td>\n",
       "      <td>22.138423</td>\n",
       "      <td>NaN</td>\n",
       "      <td>Ana</td>\n",
       "      <td>73.331311</td>\n",
       "    </tr>\n",
       "    <tr>\n",
       "      <th>1</th>\n",
       "      <td>7638</td>\n",
       "      <td>1.65</td>\n",
       "      <td>27</td>\n",
       "      <td>29.916130</td>\n",
       "      <td>NaN</td>\n",
       "      <td>Bia</td>\n",
       "      <td>81.446664</td>\n",
       "    </tr>\n",
       "    <tr>\n",
       "      <th>2</th>\n",
       "      <td>9012</td>\n",
       "      <td>1.73</td>\n",
       "      <td>21</td>\n",
       "      <td>24.988728</td>\n",
       "      <td>NaN</td>\n",
       "      <td>Carlos</td>\n",
       "      <td>74.788764</td>\n",
       "    </tr>\n",
       "    <tr>\n",
       "      <th>3</th>\n",
       "      <td>99212</td>\n",
       "      <td>1.68</td>\n",
       "      <td>33</td>\n",
       "      <td>23.608684</td>\n",
       "      <td>NaN</td>\n",
       "      <td>Davi</td>\n",
       "      <td>66.633149</td>\n",
       "    </tr>\n",
       "  </tbody>\n",
       "</table>\n",
       "</div>"
      ],
      "text/plain": [
       "     CPF  altura  idade        imc  nascimento    nome       peso\n",
       "0   1234    1.82     23  22.138423         NaN     Ana  73.331311\n",
       "1   7638    1.65     27  29.916130         NaN     Bia  81.446664\n",
       "2   9012    1.73     21  24.988728         NaN  Carlos  74.788764\n",
       "3  99212    1.68     33  23.608684         NaN    Davi  66.633149"
      ]
     },
     "execution_count": 44,
     "metadata": {},
     "output_type": "execute_result"
    }
   ],
   "source": [
    "df.sort_index(axis=1)"
   ]
  },
  {
   "cell_type": "code",
   "execution_count": 45,
   "id": "72049ef4",
   "metadata": {},
   "outputs": [
    {
     "data": {
      "text/html": [
       "<div>\n",
       "<style scoped>\n",
       "    .dataframe tbody tr th:only-of-type {\n",
       "        vertical-align: middle;\n",
       "    }\n",
       "\n",
       "    .dataframe tbody tr th {\n",
       "        vertical-align: top;\n",
       "    }\n",
       "\n",
       "    .dataframe thead th {\n",
       "        text-align: right;\n",
       "    }\n",
       "</style>\n",
       "<table border=\"1\" class=\"dataframe\">\n",
       "  <thead>\n",
       "    <tr style=\"text-align: right;\">\n",
       "      <th></th>\n",
       "      <th>nome</th>\n",
       "      <th>idade</th>\n",
       "      <th>altura</th>\n",
       "      <th>CPF</th>\n",
       "      <th>nascimento</th>\n",
       "      <th>peso</th>\n",
       "      <th>imc</th>\n",
       "    </tr>\n",
       "  </thead>\n",
       "  <tbody>\n",
       "    <tr>\n",
       "      <th>3</th>\n",
       "      <td>Davi</td>\n",
       "      <td>33</td>\n",
       "      <td>1.68</td>\n",
       "      <td>99212</td>\n",
       "      <td>NaN</td>\n",
       "      <td>66.633149</td>\n",
       "      <td>23.608684</td>\n",
       "    </tr>\n",
       "    <tr>\n",
       "      <th>0</th>\n",
       "      <td>Ana</td>\n",
       "      <td>23</td>\n",
       "      <td>1.82</td>\n",
       "      <td>1234</td>\n",
       "      <td>NaN</td>\n",
       "      <td>73.331311</td>\n",
       "      <td>22.138423</td>\n",
       "    </tr>\n",
       "    <tr>\n",
       "      <th>2</th>\n",
       "      <td>Carlos</td>\n",
       "      <td>21</td>\n",
       "      <td>1.73</td>\n",
       "      <td>9012</td>\n",
       "      <td>NaN</td>\n",
       "      <td>74.788764</td>\n",
       "      <td>24.988728</td>\n",
       "    </tr>\n",
       "    <tr>\n",
       "      <th>1</th>\n",
       "      <td>Bia</td>\n",
       "      <td>27</td>\n",
       "      <td>1.65</td>\n",
       "      <td>7638</td>\n",
       "      <td>NaN</td>\n",
       "      <td>81.446664</td>\n",
       "      <td>29.916130</td>\n",
       "    </tr>\n",
       "  </tbody>\n",
       "</table>\n",
       "</div>"
      ],
      "text/plain": [
       "     nome  idade  altura    CPF  nascimento       peso        imc\n",
       "3    Davi     33    1.68  99212         NaN  66.633149  23.608684\n",
       "0     Ana     23    1.82   1234         NaN  73.331311  22.138423\n",
       "2  Carlos     21    1.73   9012         NaN  74.788764  24.988728\n",
       "1     Bia     27    1.65   7638         NaN  81.446664  29.916130"
      ]
     },
     "execution_count": 45,
     "metadata": {},
     "output_type": "execute_result"
    }
   ],
   "source": [
    "df.sort_values(by=['peso'])"
   ]
  },
  {
   "cell_type": "code",
   "execution_count": 46,
   "id": "4f3a6c80",
   "metadata": {},
   "outputs": [
    {
     "data": {
      "text/plain": [
       "True"
      ]
     },
     "execution_count": 46,
     "metadata": {},
     "output_type": "execute_result"
    }
   ],
   "source": [
    "df['CPF'].is_unique"
   ]
  },
  {
   "cell_type": "code",
   "execution_count": null,
   "id": "ebd5dc4c",
   "metadata": {},
   "outputs": [],
   "source": []
  }
 ],
 "metadata": {
  "kernelspec": {
   "display_name": "Python 3 (ipykernel)",
   "language": "python",
   "name": "python3"
  },
  "language_info": {
   "codemirror_mode": {
    "name": "ipython",
    "version": 3
   },
   "file_extension": ".py",
   "mimetype": "text/x-python",
   "name": "python",
   "nbconvert_exporter": "python",
   "pygments_lexer": "ipython3",
   "version": "3.9.13"
  }
 },
 "nbformat": 4,
 "nbformat_minor": 5
}
